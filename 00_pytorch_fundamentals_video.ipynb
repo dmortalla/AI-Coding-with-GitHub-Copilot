{
  "nbformat": 4,
  "nbformat_minor": 0,
  "metadata": {
    "colab": {
      "provenance": [],
      "authorship_tag": "ABX9TyNwUVwZHiVCRpZWYKQwTV3I",
      "include_colab_link": true
    },
    "kernelspec": {
      "name": "python3",
      "display_name": "Python 3"
    },
    "language_info": {
      "name": "python"
    }
  },
  "cells": [
    {
      "cell_type": "markdown",
      "metadata": {
        "id": "view-in-github",
        "colab_type": "text"
      },
      "source": [
        "<a href=\"https://colab.research.google.com/github/dmortalla/AI-Coding-with-GitHub-Copilot/blob/main/00_pytorch_fundamentals_video.ipynb\" target=\"_parent\"><img src=\"https://colab.research.google.com/assets/colab-badge.svg\" alt=\"Open In Colab\"/></a>"
      ]
    },
    {
      "cell_type": "markdown",
      "source": [
        "# 00. PyTorch Fundamentals\n",
        "Resource Notebook: https://www.learnpytorch.io/00_pytorch_fundamentals/\n",
        "\n",
        "If you have a question: https://github.com/mrdbourke/pytorch-deep-learning/discussions\n",
        "\n",
        "This is my first Pytorch notebook on Colab."
      ],
      "metadata": {
        "id": "HlqF-ICm_yUi"
      }
    },
    {
      "cell_type": "code",
      "source": [
        "print(\"Hello, I'm excited to learn PyTorch!\")"
      ],
      "metadata": {
        "colab": {
          "base_uri": "https://localhost:8080/"
        },
        "id": "wqU_Rkcl_VmK",
        "outputId": "97a140a4-688b-4d2e-c904-2f0179393c49"
      },
      "execution_count": 1,
      "outputs": [
        {
          "output_type": "stream",
          "name": "stdout",
          "text": [
            "Hello, I'm excited to learn PyTorch!\n"
          ]
        }
      ]
    },
    {
      "cell_type": "code",
      "source": [
        "!nvidia-smi"
      ],
      "metadata": {
        "colab": {
          "base_uri": "https://localhost:8080/"
        },
        "id": "QnfI70pd_59C",
        "outputId": "93f8fc73-17a7-4183-e3e7-d332c5e35072"
      },
      "execution_count": 2,
      "outputs": [
        {
          "output_type": "stream",
          "name": "stdout",
          "text": [
            "/bin/bash: line 1: nvidia-smi: command not found\n"
          ]
        }
      ]
    },
    {
      "cell_type": "code",
      "source": [
        "import torch\n",
        "import pandas as pd\n",
        "import numpy as np\n",
        "import matplotlib.pyplot as plt\n",
        "print(torch.__version__)"
      ],
      "metadata": {
        "colab": {
          "base_uri": "https://localhost:8080/"
        },
        "id": "Q0-2yNjNAhQu",
        "outputId": "c30c5d1c-b4b8-4e96-d24f-4bf1a53e18ba"
      },
      "execution_count": 3,
      "outputs": [
        {
          "output_type": "stream",
          "name": "stdout",
          "text": [
            "2.4.0+cu121\n"
          ]
        }
      ]
    },
    {
      "cell_type": "markdown",
      "source": [
        "## I. Intro to Tensors\n",
        "### A. Creating Tensors\n",
        "PyTorch tensors are created using torch.Tensor().\n",
        "\n",
        "Docs:\n",
        "1. https://pytorch.org/tutorials/beginner/introyt/tensors_deeper_tutorial.html\n",
        "\n",
        "2. https://pytorch.org/docs/stable/tensors.html"
      ],
      "metadata": {
        "id": "7eQ_7sOoOTpk"
      }
    },
    {
      "cell_type": "code",
      "source": [
        "# Scalar\n",
        "scalar = torch.tensor(7)\n",
        "scalar"
      ],
      "metadata": {
        "colab": {
          "base_uri": "https://localhost:8080/"
        },
        "id": "wnj598ctOZDk",
        "outputId": "2f49e68a-e2d1-4a90-9271-fe3d640c8ee6"
      },
      "execution_count": 4,
      "outputs": [
        {
          "output_type": "execute_result",
          "data": {
            "text/plain": [
              "tensor(7)"
            ]
          },
          "metadata": {},
          "execution_count": 4
        }
      ]
    },
    {
      "cell_type": "code",
      "source": [
        "# Check dimension\n",
        "scalar.ndim"
      ],
      "metadata": {
        "colab": {
          "base_uri": "https://localhost:8080/"
        },
        "id": "DJC2VwF1RtvJ",
        "outputId": "02be51c7-1e79-45c3-e607-d37005f1aa64"
      },
      "execution_count": 5,
      "outputs": [
        {
          "output_type": "execute_result",
          "data": {
            "text/plain": [
              "0"
            ]
          },
          "metadata": {},
          "execution_count": 5
        }
      ]
    },
    {
      "cell_type": "code",
      "source": [
        "# Get tensor back as Python int\n",
        "scalar.item()"
      ],
      "metadata": {
        "colab": {
          "base_uri": "https://localhost:8080/"
        },
        "id": "VMxyGFT0SCOI",
        "outputId": "0ee19fb5-91e3-47ab-e03e-a3caf0555a86"
      },
      "execution_count": 6,
      "outputs": [
        {
          "output_type": "execute_result",
          "data": {
            "text/plain": [
              "7"
            ]
          },
          "metadata": {},
          "execution_count": 6
        }
      ]
    },
    {
      "cell_type": "code",
      "source": [
        "# Vector\n",
        "vector = torch.tensor([5, 6])\n",
        "vector"
      ],
      "metadata": {
        "colab": {
          "base_uri": "https://localhost:8080/"
        },
        "id": "iOGToNFQSbxH",
        "outputId": "8b6e5d03-4366-432b-fca9-7776ca7daac5"
      },
      "execution_count": 7,
      "outputs": [
        {
          "output_type": "execute_result",
          "data": {
            "text/plain": [
              "tensor([5, 6])"
            ]
          },
          "metadata": {},
          "execution_count": 7
        }
      ]
    },
    {
      "cell_type": "code",
      "source": [
        "vector.ndim"
      ],
      "metadata": {
        "colab": {
          "base_uri": "https://localhost:8080/"
        },
        "id": "0F8sEJdaS-HQ",
        "outputId": "fda649b2-2d38-4b0a-8185-83d70a16286c"
      },
      "execution_count": 8,
      "outputs": [
        {
          "output_type": "execute_result",
          "data": {
            "text/plain": [
              "1"
            ]
          },
          "metadata": {},
          "execution_count": 8
        }
      ]
    },
    {
      "cell_type": "code",
      "source": [
        "vector.shape"
      ],
      "metadata": {
        "colab": {
          "base_uri": "https://localhost:8080/"
        },
        "id": "Vmi7HoOfS-Qp",
        "outputId": "db71336c-226a-4895-e3fb-cf1f507f79d3"
      },
      "execution_count": 9,
      "outputs": [
        {
          "output_type": "execute_result",
          "data": {
            "text/plain": [
              "torch.Size([2])"
            ]
          },
          "metadata": {},
          "execution_count": 9
        }
      ]
    },
    {
      "cell_type": "code",
      "source": [
        "# Matrix\n",
        "matrix = torch.tensor([[2, 5], [1, 9]])\n",
        "matrix"
      ],
      "metadata": {
        "colab": {
          "base_uri": "https://localhost:8080/"
        },
        "id": "_4UMYPhoS-W2",
        "outputId": "5389bf39-795c-48b9-b433-98af7ccc9e77"
      },
      "execution_count": 10,
      "outputs": [
        {
          "output_type": "execute_result",
          "data": {
            "text/plain": [
              "tensor([[2, 5],\n",
              "        [1, 9]])"
            ]
          },
          "metadata": {},
          "execution_count": 10
        }
      ]
    },
    {
      "cell_type": "code",
      "source": [
        "matrix.ndim"
      ],
      "metadata": {
        "colab": {
          "base_uri": "https://localhost:8080/"
        },
        "id": "GLCgEdSoS-cC",
        "outputId": "008f2a88-4759-43d9-af70-803da2f1681e"
      },
      "execution_count": 11,
      "outputs": [
        {
          "output_type": "execute_result",
          "data": {
            "text/plain": [
              "2"
            ]
          },
          "metadata": {},
          "execution_count": 11
        }
      ]
    },
    {
      "cell_type": "code",
      "source": [
        "matrix.shape"
      ],
      "metadata": {
        "colab": {
          "base_uri": "https://localhost:8080/"
        },
        "id": "anNI6dzhS-if",
        "outputId": "6d2537b4-353a-46a1-d769-bce5452b6305"
      },
      "execution_count": 12,
      "outputs": [
        {
          "output_type": "execute_result",
          "data": {
            "text/plain": [
              "torch.Size([2, 2])"
            ]
          },
          "metadata": {},
          "execution_count": 12
        }
      ]
    },
    {
      "cell_type": "code",
      "source": [
        "matrix[0]"
      ],
      "metadata": {
        "colab": {
          "base_uri": "https://localhost:8080/"
        },
        "id": "3on70w3GUaOZ",
        "outputId": "25db0db0-729f-4042-ae7c-91edcb13a962"
      },
      "execution_count": 13,
      "outputs": [
        {
          "output_type": "execute_result",
          "data": {
            "text/plain": [
              "tensor([2, 5])"
            ]
          },
          "metadata": {},
          "execution_count": 13
        }
      ]
    },
    {
      "cell_type": "code",
      "source": [
        "matrix[1]"
      ],
      "metadata": {
        "colab": {
          "base_uri": "https://localhost:8080/"
        },
        "id": "dpzaBRTWUaTF",
        "outputId": "d653bd80-2c52-4094-d656-91b08e6bd1c9"
      },
      "execution_count": 14,
      "outputs": [
        {
          "output_type": "execute_result",
          "data": {
            "text/plain": [
              "tensor([1, 9])"
            ]
          },
          "metadata": {},
          "execution_count": 14
        }
      ]
    },
    {
      "cell_type": "code",
      "source": [
        "bars = torch.tensor([[1, 5, -2, 6], [4, 0, -1, 7], [10, -5, 4, 8]])\n",
        "bars"
      ],
      "metadata": {
        "colab": {
          "base_uri": "https://localhost:8080/"
        },
        "id": "jBi5O0O2Uab9",
        "outputId": "47d443b6-ad08-4f16-877b-9ab86ed6dab2"
      },
      "execution_count": 15,
      "outputs": [
        {
          "output_type": "execute_result",
          "data": {
            "text/plain": [
              "tensor([[ 1,  5, -2,  6],\n",
              "        [ 4,  0, -1,  7],\n",
              "        [10, -5,  4,  8]])"
            ]
          },
          "metadata": {},
          "execution_count": 15
        }
      ]
    },
    {
      "cell_type": "code",
      "source": [
        "bars.ndim"
      ],
      "metadata": {
        "colab": {
          "base_uri": "https://localhost:8080/"
        },
        "id": "fIEEk27LUafo",
        "outputId": "bdf0da5c-b2f0-4474-a0af-4df478f80d8a"
      },
      "execution_count": 16,
      "outputs": [
        {
          "output_type": "execute_result",
          "data": {
            "text/plain": [
              "2"
            ]
          },
          "metadata": {},
          "execution_count": 16
        }
      ]
    },
    {
      "cell_type": "code",
      "source": [
        "bars.shape"
      ],
      "metadata": {
        "colab": {
          "base_uri": "https://localhost:8080/"
        },
        "id": "Q5Fi5mNGStLH",
        "outputId": "5e344076-2725-4618-ab8e-d34848ec02d8"
      },
      "execution_count": 17,
      "outputs": [
        {
          "output_type": "execute_result",
          "data": {
            "text/plain": [
              "torch.Size([3, 4])"
            ]
          },
          "metadata": {},
          "execution_count": 17
        }
      ]
    },
    {
      "cell_type": "code",
      "source": [
        "circles = torch.tensor([[[1, 2, 3], [3, 6, 9], [2, 4, 5]]])\n",
        "circles"
      ],
      "metadata": {
        "colab": {
          "base_uri": "https://localhost:8080/"
        },
        "id": "R3bhSjvHVn3z",
        "outputId": "33e67cd7-da31-46d3-b75d-9b1629e11a7e"
      },
      "execution_count": 18,
      "outputs": [
        {
          "output_type": "execute_result",
          "data": {
            "text/plain": [
              "tensor([[[1, 2, 3],\n",
              "         [3, 6, 9],\n",
              "         [2, 4, 5]]])"
            ]
          },
          "metadata": {},
          "execution_count": 18
        }
      ]
    },
    {
      "cell_type": "code",
      "source": [
        "circles.ndim"
      ],
      "metadata": {
        "colab": {
          "base_uri": "https://localhost:8080/"
        },
        "id": "LVELWavEWkcx",
        "outputId": "887b017a-a4f8-4777-c48d-46e1ab4b6c73"
      },
      "execution_count": 19,
      "outputs": [
        {
          "output_type": "execute_result",
          "data": {
            "text/plain": [
              "3"
            ]
          },
          "metadata": {},
          "execution_count": 19
        }
      ]
    },
    {
      "cell_type": "code",
      "source": [
        "circles.shape"
      ],
      "metadata": {
        "colab": {
          "base_uri": "https://localhost:8080/"
        },
        "id": "hjKiq8eFWuSY",
        "outputId": "bad9c71e-924d-44e3-8b5b-79b212be4946"
      },
      "execution_count": 20,
      "outputs": [
        {
          "output_type": "execute_result",
          "data": {
            "text/plain": [
              "torch.Size([1, 3, 3])"
            ]
          },
          "metadata": {},
          "execution_count": 20
        }
      ]
    },
    {
      "cell_type": "code",
      "source": [
        "circles[0]"
      ],
      "metadata": {
        "colab": {
          "base_uri": "https://localhost:8080/"
        },
        "id": "T_XyCiCHWz8B",
        "outputId": "8c1aa1aa-ef68-41c0-c675-1e0c18ba7ad5"
      },
      "execution_count": 21,
      "outputs": [
        {
          "output_type": "execute_result",
          "data": {
            "text/plain": [
              "tensor([[1, 2, 3],\n",
              "        [3, 6, 9],\n",
              "        [2, 4, 5]])"
            ]
          },
          "metadata": {},
          "execution_count": 21
        }
      ]
    },
    {
      "cell_type": "code",
      "source": [
        "circles[0][0]"
      ],
      "metadata": {
        "colab": {
          "base_uri": "https://localhost:8080/"
        },
        "id": "CNSiw9AfY0PB",
        "outputId": "a8d23fbc-ee4b-4f0a-b890-a2af4f113aae"
      },
      "execution_count": 22,
      "outputs": [
        {
          "output_type": "execute_result",
          "data": {
            "text/plain": [
              "tensor([1, 2, 3])"
            ]
          },
          "metadata": {},
          "execution_count": 22
        }
      ]
    },
    {
      "cell_type": "code",
      "source": [
        "circles[0][1]"
      ],
      "metadata": {
        "colab": {
          "base_uri": "https://localhost:8080/"
        },
        "id": "vFduNQwWY5My",
        "outputId": "421a8acd-6e3b-49bb-b419-fc54af602e52"
      },
      "execution_count": 23,
      "outputs": [
        {
          "output_type": "execute_result",
          "data": {
            "text/plain": [
              "tensor([3, 6, 9])"
            ]
          },
          "metadata": {},
          "execution_count": 23
        }
      ]
    },
    {
      "cell_type": "code",
      "source": [
        "circles[0][2]"
      ],
      "metadata": {
        "colab": {
          "base_uri": "https://localhost:8080/"
        },
        "id": "sj53p_7bZTtp",
        "outputId": "8c0b836a-69ca-4a76-bd10-42a81d54f85d"
      },
      "execution_count": 24,
      "outputs": [
        {
          "output_type": "execute_result",
          "data": {
            "text/plain": [
              "tensor([2, 4, 5])"
            ]
          },
          "metadata": {},
          "execution_count": 24
        }
      ]
    },
    {
      "cell_type": "code",
      "source": [
        "circles[0].shape"
      ],
      "metadata": {
        "colab": {
          "base_uri": "https://localhost:8080/"
        },
        "id": "quJv6YQqZX2i",
        "outputId": "2f030310-d3fd-4edb-cb1f-194615ee82bb"
      },
      "execution_count": 25,
      "outputs": [
        {
          "output_type": "execute_result",
          "data": {
            "text/plain": [
              "torch.Size([3, 3])"
            ]
          },
          "metadata": {},
          "execution_count": 25
        }
      ]
    },
    {
      "cell_type": "markdown",
      "source": [
        "### Random Tensors\n",
        "Why random tensors?\n",
        "\n",
        "Random tensors are important because many neural networks learn by starting with tensors full of random numbers then adjust these numbers to represent better the data.\n",
        "\n",
        "The default tensor dtype is float32. Tensor datatype is one of the 3 big potential error causes you can have with tensors. The others are shape and device.\n",
        "\n",
        "Documentation: https://pytorch.org/docs/stable/generated/torch.rand.html\n"
      ],
      "metadata": {
        "id": "n3zcjCC63dtU"
      }
    },
    {
      "cell_type": "code",
      "source": [
        "# Create a random tensor of decimals between 0 and 1 of shape (3, 4)\n",
        "random_tensor = torch.rand(3, 4)\n",
        "random_tensor, random_tensor.dtype, random_tensor.shape, random_tensor.ndim, random_tensor.size()"
      ],
      "metadata": {
        "colab": {
          "base_uri": "https://localhost:8080/"
        },
        "id": "SUopTjgbBZj4",
        "outputId": "f542d64a-cb6b-4c02-b116-242d03563b30"
      },
      "execution_count": 26,
      "outputs": [
        {
          "output_type": "execute_result",
          "data": {
            "text/plain": [
              "(tensor([[0.6941, 0.2015, 0.7347, 0.0879],\n",
              "         [0.8236, 0.1171, 0.6287, 0.4893],\n",
              "         [0.7720, 0.0399, 0.3201, 0.7509]]),\n",
              " torch.float32,\n",
              " torch.Size([3, 4]),\n",
              " 2,\n",
              " torch.Size([3, 4]))"
            ]
          },
          "metadata": {},
          "execution_count": 26
        }
      ]
    },
    {
      "cell_type": "code",
      "source": [
        "# Create a random tensor of shape (3, 2, 4)\n",
        "random_tensor1 = torch.rand(3, 2, 4)\n",
        "random_tensor1, random_tensor1.dtype, random_tensor1.shape, random_tensor1.ndim, random_tensor1.size()"
      ],
      "metadata": {
        "colab": {
          "base_uri": "https://localhost:8080/"
        },
        "id": "wbL1NY6m3jfE",
        "outputId": "02c2d5e3-ac67-4fd2-9bff-c6d11bf10b38",
        "collapsed": true
      },
      "execution_count": 27,
      "outputs": [
        {
          "output_type": "execute_result",
          "data": {
            "text/plain": [
              "(tensor([[[0.7297, 0.5998, 0.0732, 0.9325],\n",
              "          [0.6996, 0.1545, 0.1496, 0.9025]],\n",
              " \n",
              "         [[0.0642, 0.6082, 0.6988, 0.6731],\n",
              "          [0.9086, 0.1915, 0.8160, 0.1192]],\n",
              " \n",
              "         [[0.0334, 0.8029, 0.6728, 0.6240],\n",
              "          [0.9385, 0.2618, 0.2376, 0.3519]]]),\n",
              " torch.float32,\n",
              " torch.Size([3, 2, 4]),\n",
              " 3,\n",
              " torch.Size([3, 2, 4]))"
            ]
          },
          "metadata": {},
          "execution_count": 27
        }
      ]
    },
    {
      "cell_type": "code",
      "source": [
        "# Create a random tensor of shape like an image tensor (height, width, color channels)\n",
        "random_color_tensor = torch.rand(224, 224, 3)\n",
        "random_color_tensor"
      ],
      "metadata": {
        "colab": {
          "base_uri": "https://localhost:8080/"
        },
        "id": "E39T-8MKChOZ",
        "outputId": "22057fd7-e06f-4b89-dca1-b331687abdde",
        "collapsed": true
      },
      "execution_count": 28,
      "outputs": [
        {
          "output_type": "execute_result",
          "data": {
            "text/plain": [
              "tensor([[[0.7504, 0.2411, 0.6909],\n",
              "         [0.6981, 0.9233, 0.1719],\n",
              "         [0.8816, 0.5854, 0.5097],\n",
              "         ...,\n",
              "         [0.4158, 0.7230, 0.5889],\n",
              "         [0.7381, 0.2667, 0.9195],\n",
              "         [0.0506, 0.3743, 0.2974]],\n",
              "\n",
              "        [[0.0186, 0.5135, 0.4624],\n",
              "         [0.3210, 0.1706, 0.6356],\n",
              "         [0.0040, 0.6487, 0.9281],\n",
              "         ...,\n",
              "         [0.7175, 0.7784, 0.6674],\n",
              "         [0.2376, 0.5327, 0.7928],\n",
              "         [0.2766, 0.8402, 0.5706]],\n",
              "\n",
              "        [[0.8080, 0.5085, 0.3764],\n",
              "         [0.3038, 0.6429, 0.1722],\n",
              "         [0.1631, 0.5980, 0.4037],\n",
              "         ...,\n",
              "         [0.4474, 0.7872, 0.7517],\n",
              "         [0.2906, 0.1576, 0.9519],\n",
              "         [0.3644, 0.6212, 0.2099]],\n",
              "\n",
              "        ...,\n",
              "\n",
              "        [[0.4035, 0.5842, 0.0189],\n",
              "         [0.4377, 0.4782, 0.5854],\n",
              "         [0.3098, 0.9725, 0.9844],\n",
              "         ...,\n",
              "         [0.5299, 0.8462, 0.0836],\n",
              "         [0.1206, 0.7479, 0.6638],\n",
              "         [0.3375, 0.5422, 0.7116]],\n",
              "\n",
              "        [[0.4197, 0.9545, 0.4179],\n",
              "         [0.2496, 0.0546, 0.7038],\n",
              "         [0.6342, 0.9671, 0.2082],\n",
              "         ...,\n",
              "         [0.3673, 0.4698, 0.7592],\n",
              "         [0.8979, 0.2157, 0.2594],\n",
              "         [0.2753, 0.3905, 0.3108]],\n",
              "\n",
              "        [[0.1874, 0.7652, 0.2238],\n",
              "         [0.4290, 0.8530, 0.7250],\n",
              "         [0.3062, 0.5727, 0.3659],\n",
              "         ...,\n",
              "         [0.9798, 0.7789, 0.7684],\n",
              "         [0.0806, 0.2981, 0.5572],\n",
              "         [0.4354, 0.1715, 0.1564]]])"
            ]
          },
          "metadata": {},
          "execution_count": 28
        }
      ]
    },
    {
      "cell_type": "code",
      "source": [
        "# Create a random tensor of integers with shape (3, 4)\n",
        "random_tensor2 = torch.randint(15, size=(3, 2, 4))\n",
        "random_tensor2, random_tensor2.dtype, random_tensor2.shape, random_tensor2.ndim, random_tensor2.size()"
      ],
      "metadata": {
        "colab": {
          "base_uri": "https://localhost:8080/"
        },
        "id": "sJ_uZ60DJSnV",
        "outputId": "fd6d4978-6f67-4881-82c4-ec2af9ef33e6"
      },
      "execution_count": 29,
      "outputs": [
        {
          "output_type": "execute_result",
          "data": {
            "text/plain": [
              "(tensor([[[ 5,  2,  2,  1],\n",
              "          [ 2, 14, 14,  1]],\n",
              " \n",
              "         [[13,  2, 10,  9],\n",
              "          [12, 11, 14,  0]],\n",
              " \n",
              "         [[ 2,  1, 13, 11],\n",
              "          [ 9,  7,  7,  9]]]),\n",
              " torch.int64,\n",
              " torch.Size([3, 2, 4]),\n",
              " 3,\n",
              " torch.Size([3, 2, 4]))"
            ]
          },
          "metadata": {},
          "execution_count": 29
        }
      ]
    },
    {
      "cell_type": "markdown",
      "source": [
        "### Tensors of Zeros and Ones"
      ],
      "metadata": {
        "id": "Aik-SIqiGmZB"
      }
    },
    {
      "cell_type": "code",
      "source": [
        "# Create a tensor of all zeros\n",
        "zeros = torch.zeros(3, 4)   # Or zeros = torch.zeros(size=(3, 4))\n",
        "zeros, zeros.dtype, zeros.ndim"
      ],
      "metadata": {
        "colab": {
          "base_uri": "https://localhost:8080/"
        },
        "id": "0RxUsKBdGll_",
        "outputId": "9a6b8ea8-848c-4eb7-b1f4-c49c8f88e3c3"
      },
      "execution_count": 30,
      "outputs": [
        {
          "output_type": "execute_result",
          "data": {
            "text/plain": [
              "(tensor([[0., 0., 0., 0.],\n",
              "         [0., 0., 0., 0.],\n",
              "         [0., 0., 0., 0.]]),\n",
              " torch.float32,\n",
              " 2)"
            ]
          },
          "metadata": {},
          "execution_count": 30
        }
      ]
    },
    {
      "cell_type": "code",
      "source": [
        "# Create a tensor of all ones\n",
        "ones = torch.ones(size=(2, 5))   # Or ones = torch.ones(2, 5)\n",
        "ones, ones.dtype, ones.ndim"
      ],
      "metadata": {
        "colab": {
          "base_uri": "https://localhost:8080/"
        },
        "id": "zEWs_TbpHxTR",
        "outputId": "f3590364-922e-4527-942d-c94dd192413a"
      },
      "execution_count": 31,
      "outputs": [
        {
          "output_type": "execute_result",
          "data": {
            "text/plain": [
              "(tensor([[1., 1., 1., 1., 1.],\n",
              "         [1., 1., 1., 1., 1.]]),\n",
              " torch.float32,\n",
              " 2)"
            ]
          },
          "metadata": {},
          "execution_count": 31
        }
      ]
    },
    {
      "cell_type": "markdown",
      "source": [
        "### Creating a range of tensors and tensors-like\n",
        "The .arange() method use the half-open set [LL, UL)."
      ],
      "metadata": {
        "id": "eDYDGxHIcDNq"
      }
    },
    {
      "cell_type": "code",
      "source": [
        "# Use torch.arange() for elements 0-9\n",
        "torch.arange(0, 10)"
      ],
      "metadata": {
        "colab": {
          "base_uri": "https://localhost:8080/"
        },
        "id": "41_7GXJGIN_n",
        "outputId": "975b996d-380b-487c-cb21-c833a0a9c139"
      },
      "execution_count": 32,
      "outputs": [
        {
          "output_type": "execute_result",
          "data": {
            "text/plain": [
              "tensor([0, 1, 2, 3, 4, 5, 6, 7, 8, 9])"
            ]
          },
          "metadata": {},
          "execution_count": 32
        }
      ]
    },
    {
      "cell_type": "code",
      "source": [
        "# Use torch.arange() for elements 1-10\n",
        "tensor_one_to_ten = torch.arange(1, 11)\n",
        "tensor_one_to_ten"
      ],
      "metadata": {
        "colab": {
          "base_uri": "https://localhost:8080/"
        },
        "id": "SDDLKOjmcxDG",
        "outputId": "41e2ae10-a01e-42ef-fc4d-cfe9916becb4"
      },
      "execution_count": 33,
      "outputs": [
        {
          "output_type": "execute_result",
          "data": {
            "text/plain": [
              "tensor([ 1,  2,  3,  4,  5,  6,  7,  8,  9, 10])"
            ]
          },
          "metadata": {},
          "execution_count": 33
        }
      ]
    },
    {
      "cell_type": "code",
      "source": [
        "# Creating a tensor like another tensor (same shape)\n",
        "ten_ones = torch.ones_like(input=tensor_one_to_ten)\n",
        "ten_zeros = torch.zeros_like(input=tensor_one_to_ten)\n",
        "ten_ones, ten_zeros"
      ],
      "metadata": {
        "colab": {
          "base_uri": "https://localhost:8080/"
        },
        "id": "CkoIrdqWdJhG",
        "outputId": "317f2f95-222c-4356-d00a-ac3f0d35767f"
      },
      "execution_count": 34,
      "outputs": [
        {
          "output_type": "execute_result",
          "data": {
            "text/plain": [
              "(tensor([1, 1, 1, 1, 1, 1, 1, 1, 1, 1]),\n",
              " tensor([0, 0, 0, 0, 0, 0, 0, 0, 0, 0]))"
            ]
          },
          "metadata": {},
          "execution_count": 34
        }
      ]
    },
    {
      "cell_type": "markdown",
      "source": [
        "## Tensor Datatypes\n",
        "\n",
        "Three important tensor parameters are:\n",
        "1. dtype\n",
        "2. device\n",
        "3. requires_grad"
      ],
      "metadata": {
        "id": "8GeElHR6c-sK"
      }
    },
    {
      "cell_type": "code",
      "source": [
        "# Default float32 tensors (holds 32 bits in memory)\n",
        "float_32_tensor = torch.tensor([3.0, 6.0, 9.0],\n",
        "                               dtype=None,\n",
        "                               device=None,\n",
        "                               requires_grad=False)\n",
        "float_32_tensor, float_32_tensor.dtype"
      ],
      "metadata": {
        "colab": {
          "base_uri": "https://localhost:8080/"
        },
        "id": "n3Jjq_SEdEmP",
        "outputId": "369a3670-57ff-47e5-87d3-fb9ff26b9793"
      },
      "execution_count": 35,
      "outputs": [
        {
          "output_type": "execute_result",
          "data": {
            "text/plain": [
              "(tensor([3., 6., 9.]), torch.float32)"
            ]
          },
          "metadata": {},
          "execution_count": 35
        }
      ]
    },
    {
      "cell_type": "code",
      "source": [],
      "metadata": {
        "id": "BRya7sJTdE6W"
      },
      "execution_count": 35,
      "outputs": []
    },
    {
      "cell_type": "code",
      "source": [],
      "metadata": {
        "id": "OcCX_MBtdFKi"
      },
      "execution_count": 35,
      "outputs": []
    },
    {
      "cell_type": "markdown",
      "source": [],
      "metadata": {
        "id": "LpYEwkihdHW3"
      }
    },
    {
      "cell_type": "markdown",
      "source": [],
      "metadata": {
        "id": "_kQTNzaWcT8_"
      }
    }
  ]
}